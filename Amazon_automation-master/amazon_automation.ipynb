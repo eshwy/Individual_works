{
 "cells": [
  {
   "cell_type": "code",
   "execution_count": 1,
   "id": "9d457398",
   "metadata": {},
   "outputs": [],
   "source": [
    "import time\n",
    "import selenium\n",
    "from selenium import webdriver\n",
    "from selenium.webdriver.support.ui import Select\n",
    "import pandas as pd\n",
    "import os\n",
    "import warnings\n",
    "warnings.filterwarnings(\"ignore\")"
   ]
  },
  {
   "cell_type": "code",
   "execution_count": 2,
   "id": "a154be86",
   "metadata": {},
   "outputs": [],
   "source": [
    "driverpath=r\"C:\\Users\\merit\\Desktop\\chromedriver_win32\\chromedriver.exe\"\n",
    "driver=webdriver.Chrome(executable_path=driverpath)\n",
    "driver.get(\"https://www.amazon.in/s?k=mobile+offers&qid=1630074871&ref=sr_pg_1\")\n",
    "driver.maximize_window()\n",
    "name=[]\n",
    "current=[]\n",
    "before=[]\n",
    "\n",
    "\n",
    "try:\n",
    "    for i in range(1,23):\n",
    "        heading=driver.find_element_by_xpath(\"//span[contains(text(),'Sort by:')]//following::h2[\"+str(i)+\"]\").text\n",
    "        name.append(heading.split(\"(\"))\n",
    "        price_1=driver.find_element_by_xpath(\"//span[contains(text(),'Sort by:')]//following::span[@class='a-price-symbol'][\"+str(i)+\"]//following::span[1]\").text\n",
    "        current.append(price_1)\n",
    "        price_2=driver.find_element_by_xpath(\"//span[contains(text(),'Sort by:')]//following::span[@class='a-price-symbol'][\"+str(i)+\"]//following::span[2]\").text\n",
    "        before.append(price_2)\n",
    "except:\n",
    "    pass\n",
    "    \n",
    "        \n",
    "    "
   ]
  },
  {
   "cell_type": "code",
   "execution_count": 3,
   "id": "adae7cb4",
   "metadata": {},
   "outputs": [],
   "source": [
    "finale_name=[]\n",
    "for i in range (len(name)-1):\n",
    "    finale_name.append(name[i][0])"
   ]
  },
  {
   "cell_type": "code",
   "execution_count": 4,
   "id": "475f6ab5",
   "metadata": {},
   "outputs": [],
   "source": [
    "os.chdir(r\"C:\\Users\\merit\\Desktop\\Amazon_auto\")"
   ]
  },
  {
   "cell_type": "code",
   "execution_count": 5,
   "id": "b2e3d680",
   "metadata": {},
   "outputs": [],
   "source": [
    "writer = pd.ExcelWriter(\"Mobile_Offers.xlsx\", engine='xlsxwriter')\n",
    "df=pd.DataFrame(list(zip(finale_name,current,before)), columns =[\"Product Name\",\"Current Price\",\"Before Price\"])\n",
    "df.to_excel(writer,sheet_name=\"Price_of_mobile\",index = False)\n",
    "writer.save()\n",
    "writer.close()"
   ]
  },
  {
   "cell_type": "code",
   "execution_count": null,
   "id": "7c8abeff",
   "metadata": {},
   "outputs": [],
   "source": []
  }
 ],
 "metadata": {
  "kernelspec": {
   "display_name": "Python 3",
   "language": "python",
   "name": "python3"
  },
  "language_info": {
   "codemirror_mode": {
    "name": "ipython",
    "version": 3
   },
   "file_extension": ".py",
   "mimetype": "text/x-python",
   "name": "python",
   "nbconvert_exporter": "python",
   "pygments_lexer": "ipython3",
   "version": "3.8.8"
  }
 },
 "nbformat": 4,
 "nbformat_minor": 5
}
